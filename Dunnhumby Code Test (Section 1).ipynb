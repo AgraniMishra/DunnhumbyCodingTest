{
 "cells": [
  {
   "cell_type": "markdown",
   "metadata": {},
   "source": [
    "# Technical Case Study\n",
    "\n",
    "## Coding Skills – Round 1\n",
    "\n",
    "### Solution by : Agrani Mishra\n"
   ]
  },
  {
   "cell_type": "markdown",
   "metadata": {},
   "source": [
    "### 1. Given the list of basket values, do the following:\n",
    "a. Print out whether each basket is small (basket value < £5), medium (£5 ≤ basket value < £10) or large (basket value ≥ £10).\n",
    "b. Sum and print the value of the medium value baskets.\n",
    "basket_values = [3.43,9.73,7.56,9.52,15.23,2.25,6.44,7.38]"
   ]
  },
  {
   "cell_type": "code",
   "execution_count": 73,
   "metadata": {},
   "outputs": [
    {
     "name": "stdout",
     "output_type": "stream",
     "text": [
      "Small: £3.43\n",
      "Medium: £9.73\n",
      "Medium: £7.56\n",
      "Medium: £9.52\n",
      "Large: £15.23\n",
      "Small: £2.25\n",
      "Medium: £6.44\n",
      "Medium: £7.38\n",
      "\n",
      "Total value of medium value baskets: £40.63\n"
     ]
    }
   ],
   "source": [
    "basket_values = [3.43, 9.73, 7.56, 9.52, 15.23, 2.25, 6.44, 7.38]\n",
    "\n",
    "#Define a function to get the list of medium basket values\n",
    "def basket_size(basket):\n",
    "    baskets = []  #List to store the medium value baskets\n",
    "    for value in basket_values:    \n",
    "        if value < 5:\n",
    "            print(f\"Small: £{value}\")\n",
    "        elif value >= 5 and value < 10:\n",
    "            print(f\"Medium: £{value}\")\n",
    "            baskets.append(value)\n",
    "        else:\n",
    "            print(f\"Large: £{value}\")\n",
    "    return baskets   \n",
    "\n",
    "medium_baskets = basket_size(basket)\n",
    "total_medium_baskets = sum(medium_baskets) #Total value of medium value baskets\n",
    "print(f\"\\nTotal value of medium value baskets: £{total_medium_baskets}\")"
   ]
  },
  {
   "cell_type": "markdown",
   "metadata": {},
   "source": [
    "### 2. You are given the following nested dictionaries, which represent items in a basket. Do the following:\n",
    "a. Return the product name for item 7527.\n",
    "b. Return the total value of this basket.\n",
    "c. Add another entry for a product that costs £4.95, has ID 7524 and name ‘poppy seeds’.\n",
    "basket = {'2624': {'price': 0.5, 'prod_name': 'salt'},\n",
    "'2894': {'price': 3.25, 'prod_name': 'yeast'},\n",
    "'7527': {'price': 2.5, 'prod_name': 'flour'}}"
   ]
  },
  {
   "cell_type": "code",
   "execution_count": 70,
   "metadata": {},
   "outputs": [
    {
     "name": "stdout",
     "output_type": "stream",
     "text": [
      "Product name for item 7527: flour\n",
      "Total value of the basket: 6.25\n",
      "\n",
      "Updated basket:\n",
      "{'2624': {'price': 0.5, 'prod_name': 'salt'}, '2894': {'price': 3.25, 'prod_name': 'yeast'}, '7527': {'price': 2.5, 'prod_name': 'flour'}, '7524': {'price': 4.95, 'prod_name': 'poppy seeds'}}\n"
     ]
    }
   ],
   "source": [
    "basket = {'2624': {'price': 0.5, 'prod_name': 'salt'},\n",
    "    '2894': {'price': 3.25, 'prod_name': 'yeast'},\n",
    "    '7527': {'price': 2.5, 'prod_name': 'flour'}\n",
    "}\n",
    "# a. Return the product name for item 7527.  \n",
    "item_7527_name = basket['7527']['prod_name'] #Can also be solved using get method\n",
    "print(\"Product name for item 7527:\", item_7527_name)\n",
    "\n",
    "# b. Return the total value of this basket.\n",
    "total_value = 0\n",
    "for item in basket.values():\n",
    "    total_value = total_value + item['price']\n",
    "print(\"Total value of the basket:\", total_value)\n",
    "\n",
    "# c. Add another entry for a product that costs £4.95, has ID 7524 and name 'poppy seeds'.\n",
    "new_product = {'price': 4.95, 'prod_name': 'poppy seeds'}\n",
    "basket['7524'] = new_product\n",
    "\n",
    "# Print the updated basket\n",
    "print(\"\\nUpdated basket:\")\n",
    "print(basket)\n"
   ]
  },
  {
   "cell_type": "markdown",
   "metadata": {},
   "source": [
    "### 3.Below is the source code for a function called ‘get_sql_string’.\n",
    "1 def get_sql_string(stores):\n",
    "\n",
    "2 store_names = [x.split(', ')[0] for x in stores]\n",
    "\n",
    "3 store_names = [x.replace(' ', '_') for x in store_names]\n",
    "\n",
    "4 store_regions = [x.split(',')[1] for x in stores]\n",
    "\n",
    "5 locations = store_names + store_regions\n",
    "\n",
    "6 columns = ['sales_' + x.lower() for x in locations]\n",
    "\n",
    "7 return ', '.join(columns)\n",
    "\n",
    "a. There is a bug in line 4. What should the line be?\n",
    "\n",
    "b. Assuming this bug was fixed, what would be returned if the following command was executed:\n",
    "\n",
    "my_stores = ['Fulham Palace Rd, Hammersmith', 'Crown St, Reading',\n",
    "'Leavesden Green, Watford']\n",
    "\n",
    "get_sql_string(my_stores)"
   ]
  },
  {
   "cell_type": "code",
   "execution_count": 54,
   "metadata": {},
   "outputs": [
    {
     "name": "stdout",
     "output_type": "stream",
     "text": [
      "Output with code Error in Line 4\n"
     ]
    },
    {
     "data": {
      "text/plain": [
       "'sales_fulham_palace_rd, sales_crown_st, sales_leavesden_green, sales_ hammersmith, sales_ reading, sales_ watford'"
      ]
     },
     "execution_count": 54,
     "metadata": {},
     "output_type": "execute_result"
    }
   ],
   "source": [
    "my_stores = ['Fulham Palace Rd, Hammersmith', 'Crown St, Reading',\n",
    "'Leavesden Green, Watford']\n",
    "\n",
    "def get_sql_string(stores):\n",
    "    store_names = [x.split(', ')[0] for x in stores]\n",
    "    store_names = [x.replace(' ', '_') for x in store_names]\n",
    "    store_regions = [x.split(',')[1] for x in stores]\n",
    "    locations = store_names + store_regions\n",
    "    columns = ['sales_' + x.lower() for x in locations]\n",
    "    return ', '.join(columns)\n",
    "    \n",
    "print(\"Output with code Error in Line 4\")  \n",
    "get_sql_string(my_stores)\n"
   ]
  },
  {
   "cell_type": "markdown",
   "metadata": {},
   "source": [
    "#####  Explanation and code change\n",
    "\n",
    "As seen from the above Out[49], store_region is getting split without the space which means the split function should use a comma followed by a space ', ' instead of just a comma ',' to correctly split the store names and regions. The corrected line 4 should be: \n",
    "\n",
    "store_regions = [x.split(', ')[1] for x in stores]"
   ]
  },
  {
   "cell_type": "markdown",
   "metadata": {},
   "source": [
    "### b.\tAssuming this bug was fixed, what would be returned if the following command was executed: "
   ]
  },
  {
   "cell_type": "code",
   "execution_count": 56,
   "metadata": {},
   "outputs": [
    {
     "name": "stdout",
     "output_type": "stream",
     "text": [
      "Output without code Error in Line 4\n"
     ]
    },
    {
     "data": {
      "text/plain": [
       "'sales_fulham_palace_rd, sales_crown_st, sales_leavesden_green, sales_hammersmith, sales_reading, sales_watford'"
      ]
     },
     "execution_count": 56,
     "metadata": {},
     "output_type": "execute_result"
    }
   ],
   "source": [
    "my_stores = ['Fulham Palace Rd, Hammersmith', 'Crown St, Reading',\n",
    "'Leavesden Green, Watford']\n",
    "\n",
    "def get_sql_string(stores):\n",
    "    store_names = [x.split(', ')[0] for x in stores]\n",
    "    store_names = [x.replace(' ', '_') for x in store_names]\n",
    "    store_regions = [x.split(', ')[1] for x in stores]\n",
    "    locations = store_names + store_regions\n",
    "    columns = ['sales_' + x.lower() for x in locations]\n",
    "    return ', '.join(columns)\n",
    "    \n",
    "print(\"Output without code Error in Line 4\")  \n",
    "get_sql_string(my_stores)\n"
   ]
  },
  {
   "cell_type": "markdown",
   "metadata": {},
   "source": [
    "### 4.\tWrite a function that: \n",
    "a.\taccepts a list of strings as input. \n",
    "b.\treturns an alphabetically ordered list of unique strings. \n",
    "c.\tprints the string(s) with maximum length in the console. \n"
   ]
  },
  {
   "cell_type": "code",
   "execution_count": 67,
   "metadata": {},
   "outputs": [
    {
     "name": "stdout",
     "output_type": "stream",
     "text": [
      "String with maximum length: ['Enrique', 'Weekend']\n",
      "Alphabetically ordered list of unique strings: ['Drake', 'Dua', 'Enrique', 'Justin', 'Selena', 'Weekend']\n"
     ]
    }
   ],
   "source": [
    "#a. accepts a list of strings as input.\n",
    "\n",
    "def unique_strings(input_list):\n",
    "    unique_strings = list(set(input_list)) #Convert the list to a set to remove duplicates\n",
    "\n",
    "#b. returns an alphabetically ordered list of unique strings   \n",
    "    unique_strings.sort()  #Sort the unique strings\n",
    "\n",
    "#c. prints the string(s) with maximum length in the console.\n",
    "    max_str_length = max(len(string) for string in unique_strings) #Find the max length\n",
    " \n",
    "    longest_strings = [] \n",
    "    for string in unique_strings:\n",
    "        if len(string) == max_str_length: #Find the strings with the maximum length\n",
    "            longest_strings.append(string) \n",
    "    print(\"String with maximum length:\", longest_strings)\n",
    "    \n",
    "    return unique_strings\n",
    "    \n",
    "\n",
    "input_list = [\"Selena\", \"Justin\", \"Drake\", \"Dua\", \"Dua\", \"Weekend\", \"Enrique\"]\n",
    "result = unique_strings(input_list)\n",
    "print(\"Alphabetically ordered list of unique strings:\", result)\n",
    "\n"
   ]
  },
  {
   "cell_type": "code",
   "execution_count": null,
   "metadata": {},
   "outputs": [],
   "source": []
  }
 ],
 "metadata": {
  "kernelspec": {
   "display_name": "Python 3",
   "language": "python",
   "name": "python3"
  },
  "language_info": {
   "codemirror_mode": {
    "name": "ipython",
    "version": 3
   },
   "file_extension": ".py",
   "mimetype": "text/x-python",
   "name": "python",
   "nbconvert_exporter": "python",
   "pygments_lexer": "ipython3",
   "version": "3.6.5"
  }
 },
 "nbformat": 4,
 "nbformat_minor": 2
}
